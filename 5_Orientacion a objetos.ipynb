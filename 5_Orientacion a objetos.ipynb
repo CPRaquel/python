{
 "cells": [
  {
   "cell_type": "markdown",
   "id": "1a853f75-ef2a-4db8-b4ac-7bab85765fe1",
   "metadata": {},
   "source": [
    "# Clases y objetos\n",
    "\n",
    "Un **objeto** es *cualquier cosa en Python*, ya que *todo lo que hay y usamos en Python es un objeto*. Los objetos en programación son como los objetos en la vida real: Elementos que tienen **atributos** (datos) y un **comportamiento**. Creamos objetos mediante **clases**, que son *moldes* para crear objetos de una clase (forma) determinada.\n",
    "\n",
    "Una pelota tiene *radio* o *material de construcción*, y puede *botar*. Se puede crear una pelota en Python."
   ]
  },
  {
   "cell_type": "code",
   "execution_count": 1,
   "id": "cae71e4c-ed2e-457f-97f0-0f38c70f3b11",
   "metadata": {},
   "outputs": [
    {
     "name": "stdout",
     "output_type": "stream",
     "text": [
      "Tengo una pelota que mide 40 cm y esta hecha de plastico\n"
     ]
    }
   ],
   "source": [
    "class Pelota:\n",
    "    radio = 20\n",
    "    material_de_construccion = \"plastico\"\n",
    "\n",
    "    def botar():\n",
    "        print(\"La pelota bota y bota!\")\n",
    "\n",
    "print(f\"Tengo una pelota que mide {Pelota.radio * 2} cm y esta hecha de {Pelota.material_de_construccion}\")"
   ]
  },
  {
   "cell_type": "markdown",
   "id": "c8dbda4a-3577-44e4-8688-1cdd5c0a5306",
   "metadata": {},
   "source": [
    "Igual que podemos hacer una pelota, podemos hacer una estructura abstracta que acepte parametros como argumentos y nos permita abstraer código, esta estructura son las funciones, es decir, **todo en Python es un objeto** y simplemente estamos utilizando clases y objetos ya listos, que son útiles dentro de un lenguaje de programación. *Pero esto no significa que no podamos expandirlo, y adaptarlo a nuestras necesidades*, esto se denomina programación orientada a objetos."
   ]
  },
  {
   "cell_type": "markdown",
   "id": "d6c67977-22be-4ed3-8983-4c7b91c2bcd2",
   "metadata": {},
   "source": [
    "## Clases sencillas e instancias\n",
    "\n",
    "Aunque todo en Python sea un objeto, lo normal es que un objeto sea una **instancia** de una *clase*, y por tanto, lo que se trabaja en con **clases que se instancian**. Las clases se definen con la keyword `class`.\n",
    "\n",
    "```python\n",
    "class <nombre_de_clase>:\n",
    "    ...\n",
    "```\n",
    "\n",
    "Las clases tienen **métodos** y **atributos**, y los atributos pueden ser *de clase* o *de instancia*. Un método no es más que una *función local a una clase*, mientras que los atributos son *variables que son parte de esa clase*.\n",
    "\n",
    "```python\n",
    "class <nombre_de_clase>:\n",
    "    atributo_clase = ...\n",
    "\n",
    "    def metodo(args):\n",
    "        ...\n",
    "\n",
    "    def __init__(self):\n",
    "        self.atributo_instancia = ...\n",
    "```\n",
    "\n",
    "Las clases tienen unos **metodos especiales que se rodean de __**, llamados métodos mágicos o dunder (double under), estos métodos especiales son poderosos, y se estudiarán en la metaprogramación, pero uno de ellos es especialmente importante, y es el **método constructor `__init__()`**. Además, se tiene un **atributo especial `self`**, que representa al objeto mismo. `__init__()` *siempre* tiene como *argumento* `self`, además de otros posibles argumentos."
   ]
  },
  {
   "cell_type": "code",
   "execution_count": 10,
   "id": "c0ab9ade-a4d0-4027-8f63-b96f0a250f30",
   "metadata": {},
   "outputs": [
    {
     "name": "stdout",
     "output_type": "stream",
     "text": [
      "Se ha creado a Conan el barbaro, un guerrero de nivel 1!\n",
      "Se ha creado a Merlin el mago, un mago de nivel 1!\n",
      "Se ha creado a Lancelot Pendragon, un caballero de nivel 1!\n",
      "<__main__.Personaje object at 0x000002386B4332F0>\n",
      "Conan el barbaro\n",
      "['espada']\n",
      "<__main__.Personaje object at 0x000002386B433D10>\n",
      "Merlin el mago mago 1\n",
      "Merlin el mago 2 80\n",
      "caballeros de la mesa redonda\n"
     ]
    }
   ],
   "source": [
    "# Creando y usando una clase Personaje para crear instancias (personajes) de un videojuego\n",
    "\n",
    "class Personaje:\n",
    "    def __init__(self, nombre: str, rol: str):\n",
    "        self.nombre = nombre\n",
    "        self.rol = rol\n",
    "        self.puntos_vida = 100\n",
    "        self.inventario = []\n",
    "        self.nivel = 1\n",
    "        print(f\"Se ha creado a {self.nombre}, un {self.rol} de nivel {self.nivel}!\")\n",
    "\n",
    "conan = Personaje(\"Conan el barbaro\", \"guerrero\")  # primera instancia\n",
    "merlin = Personaje(\"Merlin el mago\", \"mago\")  # segunda instancia\n",
    "lancelot = Personaje(\"Lancelot Pendragon\", \"caballero\")  # tercera instancia\n",
    "\n",
    "print(conan)\n",
    "print(conan.nombre)\n",
    "conan.inventario.append(\"espada\")\n",
    "print(conan.inventario)\n",
    "print(merlin)\n",
    "print(merlin.nombre, merlin.rol, merlin.nivel)\n",
    "merlin.nivel += 1\n",
    "merlin.puntos_vida -= 20\n",
    "print(merlin.nombre, merlin.nivel, merlin.puntos_vida)\n",
    "lancelot.orden_de_caballeria = \"caballeros de la mesa redonda\"\n",
    "print(lancelot.orden_de_caballeria)"
   ]
  },
  {
   "cell_type": "code",
   "execution_count": 4,
   "id": "afa920d8",
   "metadata": {},
   "outputs": [
    {
     "name": "stdout",
     "output_type": "stream",
     "text": [
      "['perro']\n"
     ]
    }
   ],
   "source": [
    "class Animal:\n",
    "    vida = True # Atributos de clase\n",
    "    hambre = True # Compartidos por todas las instancias\n",
    "    # instancias = [] \n",
    "\n",
    "    def __init__(self, genero, raza): #constructor. self siempre tiene que estar.\n",
    "        self.genero = genero\n",
    "        self.raza = raza\n",
    "        self.instancias = [] # es individual de cada instancia\n",
    "\n",
    "perro = Animal(raza=\"perro\", genero=\"M\")  \n",
    "gato = Animal(\"M\", \"Gato\")\n",
    "perro.instancias.append(\"perro\")\n",
    "gato.instancias.append(\"gato\")\n",
    "print(perro.instancias)     "
   ]
  },
  {
   "cell_type": "code",
   "execution_count": 5,
   "id": "8cefbcf6",
   "metadata": {},
   "outputs": [
    {
     "name": "stdout",
     "output_type": "stream",
     "text": [
      "[1, 6, 8, 10, 4, 8]\n"
     ]
    }
   ],
   "source": [
    "class Estudiante:\n",
    "    notas = [1, 3, 6, 4]\n",
    "    \n",
    "    def __init__(self, nombre):\n",
    "        self.nombre = nombre\n",
    "\n",
    "inst = Estudiante(\"Carla\")\n",
    "inst_2 = Estudiante(\"Juan\")\n",
    "inst.notas.extend([10, 4, 8])\n",
    "inst.notas.pop(1)\n",
    "inst_2.notas[2] = 8\n",
    "print(inst.notas)        "
   ]
  },
  {
   "cell_type": "code",
   "execution_count": 13,
   "id": "d3a377ea-a303-413d-8cc4-b9eb960ed861",
   "metadata": {},
   "outputs": [
    {
     "name": "stdout",
     "output_type": "stream",
     "text": [
      "Se ha creado a Luke Skywalker, un jedi de nivel 1!\n",
      "Luke Skywalker ha atacado!\n"
     ]
    }
   ],
   "source": [
    "# Mejorando la clase Personaje para incluir un método básico de ataque\n",
    "\n",
    "class Personaje:\n",
    "    def __init__(self, nombre: str, rol: str):\n",
    "        self.nombre = nombre\n",
    "        self.rol = rol\n",
    "        self.puntos_vida = 100\n",
    "        self.inventario = []\n",
    "        self.nivel = 1\n",
    "        print(f\"Se ha creado a {self.nombre}, un {self.rol} de nivel {self.nivel}!\")\n",
    "\n",
    "    def ataque_basico(self):\n",
    "        print(f\"{self.nombre} ha atacado!\")\n",
    "\n",
    "instancia = Personaje(\"Luke Skywalker\", rol=\"jedi\")\n",
    "instancia.ataque_basico()"
   ]
  },
  {
   "cell_type": "code",
   "execution_count": 14,
   "id": "c5831560-784c-41dd-88d8-d39db72f617d",
   "metadata": {},
   "outputs": [
    {
     "name": "stdout",
     "output_type": "stream",
     "text": [
      "Se ha creado a Donald Trump, un politico de nivel 1!\n",
      "Se ha creado a Joe Biden, un politico de nivel 1!\n",
      "Donald Trump ha atacado!\n",
      "Donald Trump 100\n",
      "Joe Biden 90\n"
     ]
    }
   ],
   "source": [
    "# Haciendo un combate\n",
    "\n",
    "personaje_1 = Personaje(\"Donald Trump\", \"politico\")\n",
    "personaje_2 = Personaje(\"Joe Biden\", \"politico\")\n",
    "\n",
    "def pelea(atacante: Personaje, victima: Personaje):\n",
    "    atacante.ataque_basico()\n",
    "    victima.puntos_vida -= 10\n",
    "\n",
    "pelea(personaje_1, personaje_2)\n",
    "print(personaje_1.nombre, personaje_1.puntos_vida)\n",
    "print(personaje_2.nombre, personaje_2.puntos_vida)\n",
    "\n",
    "\n",
    "\n",
    "# Como hacemos una espada para el inventario\n",
    "\n",
    "\n"
   ]
  },
  {
   "cell_type": "code",
   "execution_count": null,
   "id": "7c7e3ea7",
   "metadata": {},
   "outputs": [
    {
     "name": "stdout",
     "output_type": "stream",
     "text": [
      "Se ha creado a Lancelot Pendragon, un caballero de nivel 1!\n",
      "la experiencia 10\n"
     ]
    }
   ],
   "source": [
    "# Crear un personaje y hacer una funcion par subir experiencia\n",
    "def __init__(self, nombre: str, rol: str):\n",
    "        self.nombre = nombre\n",
    "        self.rol = rol\n",
    "        self.puntos_vida = 100\n",
    "        self.inventario = []\n",
    "        self.nivel = 1\n",
    "        self.experiencia = 0\n",
    "        print(f\"Se ha creado a {self.nombre}, un {self.rol} de nivel {self.nivel}!\")\n",
    "\n",
    "def subir_experiencia(personaje: Personaje, experiencia: int):\n",
    "        personaje.experiencia = experiencia\n",
    "\n",
    "lancelot = Personaje(\"Lancelot Pendragon\", \"caballero\")\n",
    "subir_experiencia(lancelot,10)\n",
    "print(f\"la experiencia es {lancelot.experiencia}\") \n",
    "\n",
    "#otra forma\n",
    "def subir_experiencia(personaje= Personaje):\n",
    "        personaje.nivel += 1\n"
   ]
  },
  {
   "cell_type": "code",
   "execution_count": 8,
   "id": "c7307eea",
   "metadata": {},
   "outputs": [
    {
     "name": "stdout",
     "output_type": "stream",
     "text": [
      "Se ha creado a Donald Trump, un politico de nivel 1!\n",
      "Se ha creado a Joe Biden, un politico de nivel 1!\n",
      "Donald Trump ha atacado!\n",
      "Joe Biden ha atacado!\n",
      "Donald Trump 95\n",
      "Joe Biden 90\n",
      "Joe Biden ha atacado!\n",
      "Donald Trump ha atacado!\n",
      "Donald Trump 85\n",
      "Joe Biden 85\n"
     ]
    }
   ],
   "source": [
    "# Como hacemos una pelea mas justa, donde uno ataque y otro defienda\n",
    "\n",
    "class Personaje:\n",
    "    def __init__(self, nombre: str, rol: str):\n",
    "        self.nombre = nombre\n",
    "        self.rol = rol\n",
    "        self.puntos_vida = 100\n",
    "        self.inventario = []\n",
    "        self.nivel = 1\n",
    "        print(f\"Se ha creado a {self.nombre}, un {self.rol} de nivel {self.nivel}!\")\n",
    "\n",
    "    def ataque_basico(self):\n",
    "        print(f\"{self.nombre} ha atacado!\")    \n",
    "\n",
    "personaje_1 = Personaje(\"Donald Trump\", \"politico\")\n",
    "personaje_2 = Personaje(\"Joe Biden\", \"politico\")\n",
    "\n",
    "def pelea(atacante: Personaje, victima: Personaje):\n",
    "    atacante.ataque_basico()\n",
    "    daño = 10\n",
    "    victima.puntos_vida -= daño\n",
    "    victima.ataque_basico()\n",
    "    daño = 5\n",
    "    atacante.puntos_vida -= daño\n",
    "    \n",
    "    \n",
    "pelea(personaje_1, personaje_2)\n",
    "print(personaje_1.nombre, personaje_1.puntos_vida)\n",
    "print(personaje_2.nombre, personaje_2.puntos_vida)\n",
    "pelea(personaje_2, personaje_1)\n",
    "print(personaje_1.nombre, personaje_1.puntos_vida)\n",
    "print(personaje_2.nombre, personaje_2.puntos_vida)\n"
   ]
  },
  {
   "cell_type": "code",
   "execution_count": 11,
   "id": "122c466c",
   "metadata": {},
   "outputs": [
    {
     "data": {
      "text/plain": [
       "False"
      ]
     },
     "execution_count": 11,
     "metadata": {},
     "output_type": "execute_result"
    }
   ],
   "source": [
    "# Como comprobamos si un personaje ha sido derrotado (puntos de vida a 0)\n",
    "def esDerrotado(personaje: Personaje):\n",
    "    return True if personaje.puntos_vida <= 0 else False\n",
    " \n",
    "conan.puntos_vida = 10\n",
    "esDerrotado(conan)"
   ]
  },
  {
   "cell_type": "code",
   "execution_count": 15,
   "id": "37b46e43",
   "metadata": {},
   "outputs": [
    {
     "name": "stdout",
     "output_type": "stream",
     "text": [
      "Donald Trump ha atacado!\n",
      "defensor Joe Biden ha recibido 40 puntos de daño y le quedan 50 puntos de vida\n",
      "Joe Biden ha atacado!\n",
      "Atacante Donald Trump ha recibido 5 puntos de daño y le quedan 95 puntos de vida\n"
     ]
    }
   ],
   "source": [
    "# Crear un sistema para tener en cuenta el daño producido al tener un arma(vs no tener arma) tanto en ataque como en defensa\n",
    "\n",
    "personaje_1.inventario.append((\"espada\", 4))\n",
    "\n",
    "def pelea(atacante: Personaje, defensor: Personaje):\n",
    "    atacante.ataque_basico()\n",
    "    multiplicador =1 if len(atacante.inventario) == 0 else atacante.inventario[0][1] # del arma, el daño\n",
    "    daño = 10 * multiplicador\n",
    "    defensor.puntos_vida -= daño\n",
    "    print(f\"defensor {defensor.nombre} ha recibido {daño} puntos de daño y le quedan {defensor.puntos_vida} puntos de vida\")\n",
    "    defensor.ataque_basico()\n",
    "    multiplicador = 1 if len(defensor.inventario) == 0 else defensor.inventario[0][1] # del arma, el daño\n",
    "    daño = 5 * multiplicador\n",
    "    atacante.puntos_vida -= daño\n",
    "    print(f\"Atacante {atacante.nombre} ha recibido {daño} puntos de daño y le quedan {atacante.puntos_vida} puntos de vida\")\n",
    "    \n",
    "pelea(personaje_1,personaje_2)\n",
    "\n",
    "\n"
   ]
  },
  {
   "cell_type": "code",
   "execution_count": null,
   "id": "8d05f07a",
   "metadata": {},
   "outputs": [],
   "source": [
    "#Crear una clase espada que nos permita utilizarla como objeto, y que este objeto funcione correctamente en las peleas(aplicando mas daño)"
   ]
  },
  {
   "cell_type": "markdown",
   "id": "bfc1656d-650f-4eac-adfb-5c02820614d0",
   "metadata": {},
   "source": [
    "## Herencia básica\n",
    "\n",
    "La **herencia** es una técnica que permite *extender clases* para añadir datos y comportamiento de forma acumulativa. Dado que todas las personas tienen un nombre y una edad, yo esperaría que un trabajador tenga, además de salario, un nombre y una edad (porque es una persona). Esto es la herencia, una clase *trabajador* hereda de una clase *persona*, evitando duplicar código y automatizando futuros cambios.\n",
    "\n",
    "```python\n",
    "class Trabajador(Persona):\n",
    "    ...\n",
    "```"
   ]
  },
  {
   "cell_type": "code",
   "execution_count": 16,
   "id": "f9702f0b-7a55-43d5-9ddd-8519c61025ce",
   "metadata": {},
   "outputs": [
    {
     "name": "stdout",
     "output_type": "stream",
     "text": [
      "Se ha creado a Guts, un guerrero de nivel 1!\n",
      "Guts guerrero 100 1 []\n",
      "Guts ha atacado!\n",
      "Guts ha dado un gran golpe! El daño es doble!\n",
      "Se ha creado a magus, un mago de nivel 1!\n",
      "magus ha lanzado una bola de fuego! El daño es triple!\n",
      "Se ha creado a magus, un mago de nivel 1!\n",
      "Se ha creado a medicus, un medico de nivel 1!\n",
      "los puntos de vida de magus son 100\n",
      "magus ha ganado 5 puntos de vida!\n",
      "los puntos de vida de magus son 105\n"
     ]
    }
   ],
   "source": [
    "# Creando una clase guerrero\n",
    "\n",
    "class Guerrero(Personaje):\n",
    "    def golpe_poderoso(self):\n",
    "        print(f\"{self.nombre} ha dado un gran golpe! El daño es doble!\")\n",
    "\n",
    "guts = Guerrero(\"Guts\", \"guerrero\")\n",
    "print(guts.nombre, guts.rol, guts.puntos_vida, guts.nivel, guts.inventario)\n",
    "guts.ataque_basico()\n",
    "guts.golpe_poderoso()\n",
    "\n",
    "# Crear una clase mago\n",
    "\n",
    "class Mago(Personaje):\n",
    "    def golpe_magico(self):\n",
    "        print(f\"{self.nombre} ha lanzado una bola de fuego! El daño es triple!\")\n",
    "\n",
    "mago = Mago(\"magus\",\"mago\")\n",
    "mago.golpe_magico()        \n",
    "\n",
    "\n",
    "# Crear una clase medico con un metodo que cure a otro personaje\n",
    "\n",
    "class Medico(Personaje):\n",
    "    def curar(self, personaje: Personaje):\n",
    "        personaje.puntos_vida += 5\n",
    "        print(f\"{personaje.nombre} ha ganado 5 puntos de vida!\")\n",
    "\n",
    "mago = Mago(\"magus\",\"mago\")\n",
    "medico = Medico(\"medicus\",\"medico\")\n",
    "print(f\"los puntos de vida de {mago.nombre} son {mago.puntos_vida}\")\n",
    "medico.curar(mago)\n",
    "print(f\"los puntos de vida de {mago.nombre} son {mago.puntos_vida}\") \n",
    "\n",
    "\n"
   ]
  },
  {
   "cell_type": "markdown",
   "id": "74ae043e-4c4e-4f0f-8364-bbaf60ce937d",
   "metadata": {},
   "source": [
    "## El problema del diamante y super()\n",
    "\n",
    "El **problema del diamante** es un problema típico de la orientación orientada a objetos. Ocurre cuando tenemos *dos clases padre* para una clase que hereda, y *ambas tienen un comportamiento repetido*. \n",
    "\n",
    "<img src=\"https://upload.wikimedia.org/wikipedia/commons/thumb/8/8e/Diamond_inheritance.svg/800px-Diamond_inheritance.svg.png\" width=\"300\" height=\"300\" />"
   ]
  },
  {
   "cell_type": "code",
   "execution_count": 25,
   "id": "c1b6891d-ae12-4212-9880-926680b80a20",
   "metadata": {},
   "outputs": [
    {
     "name": "stdout",
     "output_type": "stream",
     "text": [
      "Llamando a Clase_abuelo\n",
      "Llamando a Clase_padre_1\n",
      "Llamando a Clase_abuelo\n",
      "Llamando a Clase_padre_2\n",
      "Llamando a Clase_hijo\n",
      "1\n",
      "1\n",
      "1\n",
      "2\n"
     ]
    }
   ],
   "source": [
    "class Clase_abuelo:\n",
    "    numero_llamadas_abuelo = 0\n",
    "\n",
    "    def llamada(self):\n",
    "        print(\"Llamando a Clase_abuelo\")\n",
    "        self.numero_llamadas_abuelo += 1\n",
    "\n",
    "class Clase_padre_1(Clase_abuelo):\n",
    "    numero_llamadas_1 = 0\n",
    "\n",
    "    def llamada(self):\n",
    "        Clase_abuelo.llamada(self)\n",
    "        print(\"Llamando a Clase_padre_1\")\n",
    "        self.numero_llamadas_1 += 1\n",
    "\n",
    "class Clase_padre_2(Clase_abuelo):\n",
    "    numero_llamadas_2 = 0\n",
    "\n",
    "    def llamada(self):\n",
    "        Clase_abuelo.llamada(self)\n",
    "        print(\"Llamando a Clase_padre_2\")\n",
    "        self.numero_llamadas_2 += 1\n",
    "\n",
    "class Clase_hijo(Clase_padre_1, Clase_padre_2):\n",
    "    numero_llamadas_hijo = 0\n",
    "\n",
    "    def llamada(self):\n",
    "        Clase_padre_1.llamada(self)\n",
    "        Clase_padre_2.llamada(self)\n",
    "        print(\"Llamando a Clase_hijo\")\n",
    "        self.numero_llamadas_hijo += 1\n",
    "\n",
    "\n",
    "inst = Clase_hijo()\n",
    "inst.llamada()\n",
    "print(\n",
    "    inst.numero_llamadas_hijo,\n",
    "    inst.numero_llamadas_1,\n",
    "    inst.numero_llamadas_2,\n",
    "    inst.numero_llamadas_abuelo,\n",
    "    sep=\"\\n\"\n",
    ")"
   ]
  },
  {
   "cell_type": "markdown",
   "id": "a256b4da-e261-44bb-92b9-6583f587cc23",
   "metadata": {},
   "source": [
    "Python tiene un **orden de resolución de métodos (MRO)**, que puede investigarse con el atributo especial `__mro__`, y que indica en que orden se va a resolver la secuencia de herencia. Para evitar el problema del diamante, y para simplificar las llamadas a clases padre, Python incluye **`super()`**."
   ]
  },
  {
   "cell_type": "code",
   "execution_count": 23,
   "id": "cba656e2-c48c-4a70-8ab0-7e1bba7244bb",
   "metadata": {},
   "outputs": [
    {
     "name": "stdout",
     "output_type": "stream",
     "text": [
      "Leonardo 26 65000.0\n"
     ]
    }
   ],
   "source": [
    "# Creando un trabajador, que extiende a persona\n",
    "\n",
    "class Persona:\n",
    "    def __init__(self, nombre: str, edad: int):\n",
    "        self.nombre = nombre\n",
    "        self.edad = edad\n",
    "\n",
    "class Trabajador(Persona):\n",
    "    def __init__(self, nombre: str, edad: int, salario: float):\n",
    "        super().__init__(nombre, edad)\n",
    "        self.salario = salario\n",
    "\n",
    "leonardo = Trabajador(\"Leonardo\", 26, 65000.00)\n",
    "print(leonardo.nombre, leonardo.edad, leonardo.salario)"
   ]
  },
  {
   "cell_type": "code",
   "execution_count": 26,
   "id": "a43b178c-c427-4daa-a31c-9340e8d57777",
   "metadata": {},
   "outputs": [
    {
     "name": "stdout",
     "output_type": "stream",
     "text": [
      "(<class '__main__.Clase_hijo'>, <class '__main__.Clase_padre_1'>, <class '__main__.Clase_padre_2'>, <class '__main__.Clase_abuelo'>, <class 'object'>)\n",
      "(<class '__main__.Clase_hijo'>, <class '__main__.Clase_padre_1'>, <class '__main__.Clase_padre_2'>, <class '__main__.Clase_abuelo'>, <class 'object'>)\n",
      "Llamando a Clase_abuelo\n",
      "Llamando a Clase_padre_2\n",
      "Llamando a Clase_padre_1\n",
      "Llamando a Clase_hijo\n",
      "1\n",
      "1\n",
      "1\n",
      "1\n"
     ]
    }
   ],
   "source": [
    "# super() soluciona el problema del diamante\n",
    "\n",
    "print(Clase_hijo.__mro__)  # mro antes del cambio\n",
    "\n",
    "\n",
    "# refactorizando para usar super()\n",
    "\n",
    "class Clase_abuelo:\n",
    "    numero_llamadas_abuelo = 0\n",
    "\n",
    "    def llamada(self):\n",
    "        print(\"Llamando a Clase_abuelo\")\n",
    "        self.numero_llamadas_abuelo += 1\n",
    "\n",
    "class Clase_padre_1(Clase_abuelo):\n",
    "    numero_llamadas_1 = 0\n",
    "\n",
    "    def llamada(self):\n",
    "        super().llamada()  # cambio aqui\n",
    "        print(\"Llamando a Clase_padre_1\")\n",
    "        self.numero_llamadas_1 += 1\n",
    "\n",
    "class Clase_padre_2(Clase_abuelo):\n",
    "    numero_llamadas_2 = 0\n",
    "\n",
    "    def llamada(self):\n",
    "        super().llamada()  # cambio aqui\n",
    "        print(\"Llamando a Clase_padre_2\")\n",
    "        self.numero_llamadas_2 += 1\n",
    "\n",
    "class Clase_hijo(Clase_padre_1, Clase_padre_2):\n",
    "    numero_llamadas_hijo = 0\n",
    "\n",
    "    def llamada(self):\n",
    "        super().llamada()  # cambio aqui\n",
    "        print(\"Llamando a Clase_hijo\")\n",
    "        self.numero_llamadas_hijo += 1\n",
    "\n",
    "# se hace instancia y se comprueba mro y como se ha solucionado el problema del diamante\n",
    "\n",
    "inst = Clase_hijo()\n",
    "print(Clase_hijo.__mro__)  # MRO no cambia, pero problema del diamante solucionado\n",
    "inst.llamada()\n",
    "print(\n",
    "    inst.numero_llamadas_hijo,\n",
    "    inst.numero_llamadas_1,\n",
    "    inst.numero_llamadas_2,\n",
    "    inst.numero_llamadas_abuelo,\n",
    "    sep=\"\\n\"\n",
    ")"
   ]
  },
  {
   "cell_type": "markdown",
   "id": "e25603e5-acc5-4b2b-9b18-377ba5f6d7aa",
   "metadata": {},
   "source": [
    "# Manejar errores: Try / Except\n",
    "\n",
    "Python incluye un systema try/except para gestionar los errores. Cada error es un **objeto Exception**, y el control de estos errores se realiza mediante los **bloques try/except/else/finally**.\n",
    "\n",
    "```python\n",
    "try:\n",
    "    ...  # codigo que se controla para errores\n",
    "except <excepcion>:\n",
    "    ...  # codigo para cuando salta el error\n",
    "else:\n",
    "    ...  # codigo para cuando no salta el error\n",
    "finally:\n",
    "    ...  # codigo que siempre se ejecuta\n",
    "```\n",
    "\n",
    "En la realidad, con utilizar `try` y `except` es suficiente."
   ]
  },
  {
   "cell_type": "code",
   "execution_count": 3,
   "id": "165eb03b-5523-4c0c-b98c-e7e63d62e19e",
   "metadata": {},
   "outputs": [
    {
     "name": "stdout",
     "output_type": "stream",
     "text": [
      "No se puede dividir por cero!\n",
      "division by zero\n"
     ]
    }
   ],
   "source": [
    "x = 10\n",
    "y = 0\n",
    "\n",
    "try:\n",
    "    resultado = x / y  # Intento dividir por cero\n",
    "except ZeroDivisionError:\n",
    "    print(\"No se puede dividir por cero!\")\n",
    "except TypeError:\n",
    "    print(\"No es el tipo correcto\")    \n",
    "    \n",
    "\n",
    "try:\n",
    "    resultado = x / y  # Intento dividir por cero\n",
    "except Exception as error:\n",
    "    print(error)    "
   ]
  },
  {
   "cell_type": "markdown",
   "id": "3a9e699f-adf9-46fd-a4f2-1aafaa8bf89f",
   "metadata": {},
   "source": [
    "En Python se pueden crear varios bloques except (para diferentes errores), e incluso grupos de errores comunes. Además, se pueden crear nuevas excepciones para errores personalizados, y tenemos una clase genérica Exception para las excepciones generales.\n",
    "\n",
    "## Raise\n",
    "\n",
    "**Elevar un error** se hace con `raise`, y permite crear errores cuando es necesario.\n",
    "\n",
    "```python\n",
    "raise <excepcion>(<mensaje>)\n",
    "```"
   ]
  },
  {
   "cell_type": "code",
   "execution_count": 5,
   "id": "e83399c0-28cc-41b9-9882-5ec00eaa8a29",
   "metadata": {},
   "outputs": [
    {
     "ename": "ValueError",
     "evalue": "Esta edad es incorrecta!",
     "output_type": "error",
     "traceback": [
      "\u001b[1;31m---------------------------------------------------------------------------\u001b[0m",
      "\u001b[1;31mValueError\u001b[0m                                Traceback (most recent call last)",
      "Cell \u001b[1;32mIn[5], line 4\u001b[0m\n\u001b[0;32m      1\u001b[0m edad \u001b[38;5;241m=\u001b[39m \u001b[38;5;28mint\u001b[39m(\u001b[38;5;28minput\u001b[39m(\u001b[38;5;124m\"\u001b[39m\u001b[38;5;124mPon aqui tu edad: \u001b[39m\u001b[38;5;124m\"\u001b[39m))\n\u001b[0;32m      3\u001b[0m \u001b[38;5;28;01mif\u001b[39;00m edad \u001b[38;5;241m<\u001b[39m \u001b[38;5;241m0\u001b[39m:\n\u001b[1;32m----> 4\u001b[0m     \u001b[38;5;28;01mraise\u001b[39;00m \u001b[38;5;167;01mValueError\u001b[39;00m(\u001b[38;5;124m\"\u001b[39m\u001b[38;5;124mEsta edad es incorrecta!\u001b[39m\u001b[38;5;124m\"\u001b[39m)\n",
      "\u001b[1;31mValueError\u001b[0m: Esta edad es incorrecta!"
     ]
    }
   ],
   "source": [
    "edad = int(input(\"Pon aqui tu edad: \"))\n",
    "\n",
    "if edad < 0:\n",
    "    raise ValueError(\"Esta edad es incorrecta!\")"
   ]
  },
  {
   "cell_type": "code",
   "execution_count": 8,
   "id": "1bbad775-7c6a-4300-9620-1ba7f5f85ba2",
   "metadata": {},
   "outputs": [
    {
     "name": "stdout",
     "output_type": "stream",
     "text": [
      "TypeError('can only concatenate str (not \"int\") to str')\n",
      "<class 'TypeError'>\n"
     ]
    }
   ],
   "source": [
    "numero = input(\"Dime un numero: \")\n",
    "try:\n",
    "    numero += 10\n",
    "except Exception as error:\n",
    "    print(repr(error))\n",
    "    print(error.__class__)"
   ]
  },
  {
   "cell_type": "markdown",
   "id": "d5011608-8c4d-4057-8309-b9a25f418e38",
   "metadata": {},
   "source": [
    "## Objeto Exception y excepciones custom\n",
    "\n",
    "Toda excepción deriva de una excepción padre `Exception`, que representa a *todas las excepciones posibles, y siempre resultará en un error*. Sin embargo, se considera **mala práctica utilizar la clase genérica Exception para manejar errores**, siendo mucho mejor hacerlo con las excepciones concretas. Además, hay una clase padre de Exception que es BaseException, pero su uso es interno en Python, y rara vez se debería utilizar.\n",
    "\n",
    "Heredando de `Exception` se pueden crear excepciones personalizadas."
   ]
  },
  {
   "cell_type": "code",
   "execution_count": 25,
   "id": "8d246420-70ac-4d73-bb3c-38819bab04a0",
   "metadata": {},
   "outputs": [
    {
     "name": "stdout",
     "output_type": "stream",
     "text": [
      "1000.0\n",
      "Acabo de retirar 810.45 de mi banco, voy a intentar retirar 400\n",
      "['lechuga']\n",
      "False\n"
     ]
    },
    {
     "ename": "ConexionFallida",
     "evalue": "No se pudo establecer una conexión con la base de datos.",
     "output_type": "error",
     "traceback": [
      "\u001b[1;31m---------------------------------------------------------------------------\u001b[0m",
      "\u001b[1;31mConexionFallida\u001b[0m                           Traceback (most recent call last)",
      "Cell \u001b[1;32mIn[25], line 65\u001b[0m\n\u001b[0;32m     63\u001b[0m inst \u001b[38;5;241m=\u001b[39m BaseDeDatos()\n\u001b[0;32m     64\u001b[0m \u001b[38;5;28mprint\u001b[39m(inst\u001b[38;5;241m.\u001b[39mconectado)\n\u001b[1;32m---> 65\u001b[0m \u001b[43minst\u001b[49m\u001b[38;5;241;43m.\u001b[39;49m\u001b[43mconectar\u001b[49m\u001b[43m(\u001b[49m\u001b[43m)\u001b[49m\n",
      "Cell \u001b[1;32mIn[25], line 61\u001b[0m, in \u001b[0;36mBaseDeDatos.conectar\u001b[1;34m(self)\u001b[0m\n\u001b[0;32m     59\u001b[0m     \u001b[38;5;28mprint\u001b[39m(\u001b[38;5;124m\"\u001b[39m\u001b[38;5;124mConexión a la base de datos exitosa.\u001b[39m\u001b[38;5;124m\"\u001b[39m)\n\u001b[0;32m     60\u001b[0m \u001b[38;5;28;01melse\u001b[39;00m:\n\u001b[1;32m---> 61\u001b[0m     \u001b[38;5;28;01mraise\u001b[39;00m ConexionFallida(\u001b[38;5;124m\"\u001b[39m\u001b[38;5;124mNo se pudo establecer una conexión con la base de datos.\u001b[39m\u001b[38;5;124m\"\u001b[39m)\n",
      "\u001b[1;31mConexionFallida\u001b[0m: No se pudo establecer una conexión con la base de datos."
     ]
    }
   ],
   "source": [
    "class RetiradaIncorrecta(Exception):\n",
    "    pass\n",
    "\n",
    "class CuentaBancaria:\n",
    "    def __init__(self, saldo: float):\n",
    "        self.saldo_bancario = saldo\n",
    "\n",
    "    def retirar_efectivo(self, cantidad: float) -> float:\n",
    "        if self.saldo_bancario < cantidad:\n",
    "            raise RetiradaIncorrecta(f\"No puedes retirar {cantidad} de tu cuenta, tu saldo es de {self.saldo_bancario}\")\n",
    "        else:\n",
    "            self.saldo_bancario -= cantidad\n",
    "            return cantidad\n",
    "\n",
    "cuenta_corriente = CuentaBancaria(1000.0)\n",
    "print(cuenta_corriente.saldo_bancario)\n",
    "mi_dinero = cuenta_corriente.retirar_efectivo(810.45)\n",
    "print(f\"Acabo de retirar {mi_dinero} de mi banco, voy a intentar retirar 400\")\n",
    "#cuenta_corriente.retirar_efectivo(400)\n",
    "\n",
    "# Crear un error para un objeto que se ha agotado en un ecommerce\n",
    "\n",
    "almacen = {\n",
    "    \"lechuga\": 1\n",
    "}\n",
    "\n",
    "class ObjetoAgotado(Exception):\n",
    "    pass\n",
    "\n",
    "class Carrito:\n",
    "    def __init__(self):\n",
    "        self.items = []\n",
    "\n",
    "    def comprar(self, item: str):\n",
    "        cantidad = almacen[item]\n",
    "        if cantidad < 1:\n",
    "            raise ObjetoAgotado(\"Este objeto no esta en nuestro comercio, espera a que sea repuesto\")\n",
    "        self.items.append(item)\n",
    "\n",
    "carro = Carrito()\n",
    "carro.comprar(\"lechuga\")\n",
    "print(carro.items)        \n",
    "\n",
    "\n",
    "# Crear un error para una conexion a una base de datos que ha fallado\n",
    "\n",
    "from random import choice\n",
    "\n",
    "class ConexionFallida(Exception):\n",
    "    pass\n",
    "\n",
    "class BaseDeDatos:\n",
    "    def __init__(self):\n",
    "        self.conectado = choice([True, False])\n",
    "\n",
    "    def conectar(self):\n",
    "        # Simulación de un intento de conexión\n",
    "        if self.conectado:\n",
    "            print(\"Conexión a la base de datos exitosa.\")\n",
    "        else:\n",
    "            raise ConexionFallida(\"No se pudo establecer una conexión con la base de datos.\")\n",
    "\n",
    "inst = BaseDeDatos()\n",
    "print(inst.conectado)\n",
    "inst.conectar()\n"
   ]
  }
 ],
 "metadata": {
  "kernelspec": {
   "display_name": "Python 3 (ipykernel)",
   "language": "python",
   "name": "python3"
  },
  "language_info": {
   "codemirror_mode": {
    "name": "ipython",
    "version": 3
   },
   "file_extension": ".py",
   "mimetype": "text/x-python",
   "name": "python",
   "nbconvert_exporter": "python",
   "pygments_lexer": "ipython3",
   "version": "3.12.4"
  }
 },
 "nbformat": 4,
 "nbformat_minor": 5
}
