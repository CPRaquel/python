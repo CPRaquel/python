{
 "cells": [
  {
   "cell_type": "code",
   "execution_count": 1,
   "metadata": {},
   "outputs": [
    {
     "name": "stdout",
     "output_type": "stream",
     "text": [
      "\n",
      "La contraseña introducida es Castellano2_ y la validación es True\n"
     ]
    }
   ],
   "source": [
    "# valiador de contraseña (funcion)\n",
    "\n",
    "def validarContraseña(contraseña: str) -> bool:\n",
    "    mensaje = \"\"\n",
    "    correcto = True\n",
    "    \n",
    "    if len(contraseña) > 16 or len(contraseña) < 8:\n",
    "        mensaje += \"La contraseña debe ser tener entre 8 y 15 dígitos. \\n\"\n",
    "        correcto = False\n",
    "        \n",
    "    if not any(char.isdigit() for char in contraseña):\n",
    "        mensaje += \"La contraseña debe contener al menos un número. \\n\" \n",
    "        correcto = False\n",
    "    \n",
    "    if not any(char.isupper() for char in contraseña):\n",
    "        mensaje += \"La contraseña debe contener al menos una mayúscula. \\n\" \n",
    "        correcto = False        \n",
    "    \n",
    "    if not any(char in ['@', '$', '.', '-', '_', '%'] for char in contraseña):\n",
    "        mensaje += \"La contraseña debe contener al menos un caracter especial. \\n\" \n",
    "        correcto = False    \n",
    "    \n",
    "    print(mensaje)    \n",
    "    return correcto\n",
    "    \n",
    "\n",
    "contraseña = input(\"introduzca contraseña\")\n",
    "print(f\"La contraseña introducida es {contraseña} y la validación es {validarContraseña(contraseña)}\")\n"
   ]
  }
 ],
 "metadata": {
  "kernelspec": {
   "display_name": "Python 3",
   "language": "python",
   "name": "python3"
  },
  "language_info": {
   "codemirror_mode": {
    "name": "ipython",
    "version": 3
   },
   "file_extension": ".py",
   "mimetype": "text/x-python",
   "name": "python",
   "nbconvert_exporter": "python",
   "pygments_lexer": "ipython3",
   "version": "3.12.4"
  }
 },
 "nbformat": 4,
 "nbformat_minor": 2
}
