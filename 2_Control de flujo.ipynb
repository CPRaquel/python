{
 "cells": [
  {
   "cell_type": "markdown",
   "id": "52426421-30fa-46b4-b363-8c7b54312a38",
   "metadata": {},
   "source": [
    "# Control de flujo - Bucles\n",
    "\n",
    "Los bucles son **bloques que iteran (repiten instrucciones)** con respecto a una variable que puede *recorrerse (iterable)*.\n",
    "\n",
    "Hay *2 formas* de definir bucles, mediante la keyword **FOR** y mediante la keyword **WHILE**"
   ]
  },
  {
   "cell_type": "markdown",
   "id": "a5383a56-2af9-4095-9033-4638a609d204",
   "metadata": {},
   "source": [
    "## Bucles *while*\n",
    "\n",
    "Un bucle `while` (hasta) ejecutará el bloque *hasta que* se le den instrucciones de salir del bucle.\n",
    "\n",
    "La sintaxis es:\n",
    "\n",
    "```\n",
    "while <condicion>:\n",
    "  <bloque>\n",
    "```\n",
    "\n",
    "```python\n",
    "while on_off is True:\n",
    "  print(\"Estoy encendido\")\n",
    "```"
   ]
  },
  {
   "cell_type": "code",
   "execution_count": null,
   "id": "55e2e547-7209-448b-9ed3-826797a3e95d",
   "metadata": {},
   "outputs": [],
   "source": [
    "numero = 0\n",
    "\n",
    "while numero <= 10:\n",
    "  numero = numero + 1\n",
    "  print(numero)\n",
    "  "
   ]
  },
  {
   "cell_type": "markdown",
   "id": "eff85682-bda6-4819-afb2-fd73fc1f2284",
   "metadata": {},
   "source": [
    "Los bucles `while` *no son muy usados*, ya que un bucle `for` permite cubrir la mayoria de los casos y su iteracion es limitada (no requiere de una condición de parada), ademas, no son tan eficientes.\n",
    "\n",
    "Estos bucles se suelen usar cuando el numero de iteraciones no es bien conocido, o bien se requiere de una iteracion desconocida."
   ]
  },
  {
   "cell_type": "markdown",
   "id": "92f0f92c-97b6-41ce-98b3-cff4af71b105",
   "metadata": {},
   "source": [
    "## Bucles *for*\n",
    "\n",
    "Un bucle `for` (para) ejecutará el bloque *para unos elementos* definidos en el mismo objeto a iterar (iterable)\n",
    "\n",
    "La sintaxis es:\n",
    "\n",
    "```\n",
    "for <elemento> in <iterable>:\n",
    "  <bloque>\n",
    "```\n",
    "\n",
    "```python\n",
    "for on_off in todos_los_on_off:\n",
    "  print(on_off)\n",
    "```"
   ]
  },
  {
   "cell_type": "code",
   "execution_count": 1,
   "id": "b3bcac15-655f-4c6e-b42c-14650a2962b3",
   "metadata": {},
   "outputs": [
    {
     "name": "stdout",
     "output_type": "stream",
     "text": [
      "1\n",
      "2\n",
      "3\n",
      "4\n",
      "5\n",
      "6\n",
      "7\n",
      "8\n",
      "9\n",
      "10\n"
     ]
    }
   ],
   "source": [
    "numeros = [1, 2, 3, 4, 5, 6, 7, 8, 9, 10]\n",
    "\n",
    "for numero in numeros:\n",
    "  print(numero)"
   ]
  },
  {
   "cell_type": "code",
   "execution_count": 2,
   "id": "2d214a13",
   "metadata": {},
   "outputs": [
    {
     "name": "stdout",
     "output_type": "stream",
     "text": [
      "0\n",
      "1\n",
      "2\n",
      "3\n",
      "4\n",
      "5\n",
      "6\n",
      "7\n",
      "8\n",
      "9\n"
     ]
    }
   ],
   "source": [
    "lista = list(range(0,10,1)) #de 0 a 9\n",
    "for numero in lista:\n",
    "    print(numero)"
   ]
  },
  {
   "cell_type": "markdown",
   "id": "b44463a8-2f04-443a-b61e-c50cae60e916",
   "metadata": {},
   "source": [
    "Los bucles pueden *anidarse* entre ellos, y cada nivel es una dimensión."
   ]
  },
  {
   "cell_type": "code",
   "execution_count": 5,
   "id": "53396acb-466f-4895-ae5b-00d2ef913651",
   "metadata": {},
   "outputs": [
    {
     "name": "stdout",
     "output_type": "stream",
     "text": [
      "Estas son las notas: [3, 6, 5, 2]\n"
     ]
    },
    {
     "name": "stdout",
     "output_type": "stream",
     "text": [
      "Y esta es la media del alumno: 4.0\n",
      "Estas son las notas: [7, 6, 7.6, 4.5]\n",
      "Y esta es la media del alumno: 6.275\n",
      "Estas son las notas: [3, 10, 9.8, 7.1]\n",
      "Y esta es la media del alumno: 7.475\n",
      "La media de las medias de cada alumno es: [4.0, 6.275, 7.475] ---> 4.4375\n"
     ]
    }
   ],
   "source": [
    "notas_alumnos = ([3, 6, 5, 2],\n",
    "                 [7, 6, 7.6, 4.5],\n",
    "                 [3, 10, 9.8, 7.1])\n",
    "\n",
    "media_notas_cada_alumno = []  # Aqui vamos a guardar las notas medias de cada alumno\n",
    "media_total_notas = 0  # Aqui se va a guardar la media de las medias\n",
    "\n",
    "for notas in notas_alumnos:\n",
    "  print(f\"Estas son las notas: {notas}\")\n",
    "  media_de_alumno = 0  # Y ahora se va a hacer un bucle para esas notas\n",
    "\n",
    "  for notas_de_alumno in notas:\n",
    "    media_de_alumno += notas_de_alumno / 4\n",
    "\n",
    "  print(f\"Y esta es la media del alumno: {media_de_alumno}\")\n",
    "  media_notas_cada_alumno.append(media_de_alumno)  # Guardamos esa media y se continua iterando\n",
    "\n",
    "for media_notas in media_notas_cada_alumno:  # Por ultimo, se calcula la media de las medias\n",
    "  media_total_notas += media_notas / 4\n",
    "\n",
    "print(f\"La media de las medias de cada alumno es: {media_notas_cada_alumno} ---> {media_total_notas}\")"
   ]
  },
  {
   "cell_type": "markdown",
   "id": "4c629f0b-7293-47b6-a7ce-48012f3c39b6",
   "metadata": {},
   "source": [
    "## Ejercicio\n",
    "\n",
    "Cambiar todos los strings almacenados para que no tengan mayusculas\n",
    "\n",
    "*Esto se suele utilizar mucho en desarrollo para estandarizar cosas como usuarios, tecnologias, direcciones, ...*"
   ]
  },
  {
   "cell_type": "code",
   "execution_count": 6,
   "id": "07f7e9b7-f302-47a9-a4c1-df48832bd851",
   "metadata": {},
   "outputs": [
    {
     "name": "stdout",
     "output_type": "stream",
     "text": [
      "['john', 'doe', 'starlette', 'test']\n"
     ]
    }
   ],
   "source": [
    "var = [\"john\", \"DOE\", \"sTaRlEtTe\", \"TesT\"]\n",
    "resultado = []\n",
    "for string in var:\n",
    "    resultado.append(string.lower())\n",
    "print(resultado)    \n",
    "\n",
    "#otra forma cambiando la propia lista\n",
    "#var2 = [\"john\", \"DOE\", \"sTaRlEtTe\", \"TesT\"]\n",
    "\n",
    "#for string in indice in enumerate(var2):\n",
    "#    print(type(int(indice)))\n"
   ]
  },
  {
   "cell_type": "markdown",
   "id": "30ddf6e7-654f-479f-8b91-24d5dc91520a",
   "metadata": {},
   "source": [
    "# Control de flujo - Condicionales\n",
    "\n",
    "Las condiciones son **bloques que filtran (dividen en opciones el flujo de código)** con respecto a una condición que puede *demostrarse (evalua a True o False)*.\n",
    "\n",
    "La forma de definir un bloque condicional es con la keyword **IF**, y pueden extenderse con las keywords **ELIF** y **ELSE**"
   ]
  },
  {
   "cell_type": "code",
   "execution_count": 7,
   "id": "aa6e84ed-e542-4ba1-a4ef-7ccc7a2c412f",
   "metadata": {},
   "outputs": [
    {
     "name": "stdout",
     "output_type": "stream",
     "text": [
      "guau guau!\n"
     ]
    }
   ],
   "source": [
    "animal = \"perro\"\n",
    "\n",
    "if animal == \"perro\":\n",
    "  print(\"guau guau!\")"
   ]
  },
  {
   "cell_type": "markdown",
   "id": "54cbd086-cae5-454d-9b5f-2a2bebb33227",
   "metadata": {},
   "source": [
    "## Bloques *if/elif/else*\n",
    "\n",
    "Los bloques condicionales empiezan con `if` (si), que definen una condicion. Si no se cumple, se pueden definir otras opciones con `elif` (si no, entonces si). Y por último, se puede definir una condicion general para el caso en que no se cumpla ningún `if` o `elif` con `else` (si no), aqui no se define una condición porque se cumplirá siempre que no se cumplan las anteriores.\n",
    "\n",
    "La sintaxis es:\n",
    "\n",
    "```\n",
    "if <condicion>:\n",
    "  <bloque>\n",
    "elif <condicion>:\n",
    "  <bloque>\n",
    "...\n",
    "else:\n",
    "  <bloque>\n",
    "```\n",
    "\n",
    "```python\n",
    "if edad_persona >= 18:\n",
    "  print(\"Esta persona es mayor de edad\")\n",
    "elif edad_persona < 18 and edad_persona > 0:\n",
    "  print(\"Esta persona es menor de edad\")\n",
    "else:\n",
    "  print(\"Hay un error con la edad de esta persona\")\n",
    "```"
   ]
  },
  {
   "cell_type": "code",
   "execution_count": 8,
   "id": "f85fe047-bb9c-45fe-a345-5806647d3b41",
   "metadata": {},
   "outputs": [
    {
     "name": "stdout",
     "output_type": "stream",
     "text": [
      "El semaforo esta verde, puedes pasar\n"
     ]
    }
   ],
   "source": [
    "color_semaforo = \"verde\"\n",
    "\n",
    "if color_semaforo == \"verde\":\n",
    "  print(\"El semaforo esta verde, puedes pasar\")\n",
    "elif color_semaforo == \"amarillo\":\n",
    "  print(\"El semaforo esta amarillo, acelera!\")\n",
    "elif color_semaforo == \"rojo\":\n",
    "  print(\"El semaforo esta rojo, debes parar\")\n",
    "else:\n",
    "  print(\"Este semaforo es muy raro, el color no es correcto\")"
   ]
  },
  {
   "cell_type": "code",
   "execution_count": 9,
   "id": "a99d95b8",
   "metadata": {},
   "outputs": [
    {
     "name": "stdout",
     "output_type": "stream",
     "text": [
      "Esa edad no es correcta\n"
     ]
    }
   ],
   "source": [
    "edad = -20\n",
    "if edad >= 18:\n",
    "    print(\"Mayor de edad\")\n",
    "elif 0 < edad < 18:\n",
    "    print(\"Menor de edad\")\n",
    "else:\n",
    "    print(\"Esa edad no es correcta\")        "
   ]
  },
  {
   "cell_type": "code",
   "execution_count": 10,
   "id": "0a2dc5bb",
   "metadata": {},
   "outputs": [
    {
     "name": "stdout",
     "output_type": "stream",
     "text": [
      "Eres un hombre europeo\n",
      "Eres de un pais occidental\n"
     ]
    }
   ],
   "source": [
    "nacionalidad = \"EU\"\n",
    "genero = \"hombre\"\n",
    "\n",
    "if nacionalidad == \"EU\" and genero == \"mujer\":\n",
    "    print(\"Eres una mujer europea\")\n",
    "elif nacionalidad == \"EU\" and not genero == \"mujer\":\n",
    "    print(\"Eres un hombre europeo\")    \n",
    "\n",
    "if nacionalidad == \"EU\" or nacionalidad == \"AMER\":\n",
    "    print(\"Eres de un pais occidental\")"
   ]
  },
  {
   "cell_type": "markdown",
   "id": "c914981f-997a-4328-80f2-e32bb1774d70",
   "metadata": {},
   "source": [
    "### Condicionales anidados\n",
    "\n",
    "Los condicionales tambien se puede anidar y/o combinar con bucles, permitiendo un control del flujo del programa"
   ]
  },
  {
   "cell_type": "code",
   "execution_count": 11,
   "id": "385cd13b-606d-4520-a8cb-9b6970418808",
   "metadata": {},
   "outputs": [
    {
     "name": "stdout",
     "output_type": "stream",
     "text": [
      "Tienes un buen salario!\n"
     ]
    }
   ],
   "source": [
    "salario = 120000\n",
    "\n",
    "if salario > 0:  # Si se tiene un salario...\n",
    "  if salario < 50000:  # ... y el salario es normalito\n",
    "    print(\"Tienes un salario normalito\")\n",
    "  else:\n",
    "    print(\"Tienes un buen salario!\")  # ... y el salario NO es normalito\n",
    "else:\n",
    "  print(\"No tienes trabajo!\")  # No hay un salario"
   ]
  },
  {
   "cell_type": "markdown",
   "id": "ad52290d",
   "metadata": {},
   "source": [
    "### Condicionales ternarios\n",
    "\n",
    "Los condicionales ternarios son formas especiales de if/else que tienen la forma\n",
    "\n",
    "```python\n",
    "<resultado verdadero> if <condicion> else <resultado falso>\n",
    "```"
   ]
  },
  {
   "cell_type": "code",
   "execution_count": 12,
   "id": "399ddbe3",
   "metadata": {},
   "outputs": [
    {
     "name": "stdout",
     "output_type": "stream",
     "text": [
      "Eres mayor de edad\n"
     ]
    }
   ],
   "source": [
    "edad = int(input(\"Dime tu edad: \"))\n",
    "respuesta = \"Eres menor de edad\" if 0 < edad < 18 else \"Eres mayor de edad\"\n",
    "print(respuesta)\n",
    "\n",
    "#no permite discriminar bien a veces. es mas para cosas de si o no. Muy sencillas"
   ]
  },
  {
   "cell_type": "markdown",
   "id": "2ba1c4f2",
   "metadata": {},
   "source": [
    "## Contador\n",
    "\n",
    "Crear un contador que vaya sumando fijos\n",
    "\n",
    "Este tipo de contadores se utilizan mucho en bases de datos, colas, ids de varios tipos, ..."
   ]
  },
  {
   "cell_type": "code",
   "execution_count": 14,
   "id": "a990ecfa",
   "metadata": {},
   "outputs": [
    {
     "name": "stdout",
     "output_type": "stream",
     "text": [
      "3\n",
      "6\n",
      "9\n",
      "12\n",
      "15\n"
     ]
    }
   ],
   "source": [
    "contador = 0\n",
    "numero_fijo = 3\n",
    "saltos = 5\n",
    "for _ in range(saltos):\n",
    "    contador += numero_fijo\n",
    "    print(contador)"
   ]
  },
  {
   "cell_type": "markdown",
   "id": "167d850c-926c-4859-9d7e-ab7afcd6f4f6",
   "metadata": {},
   "source": [
    "## Validador de edad\n",
    "\n",
    "Un diccionario que representa una persona, validar si es mayor de edad\n",
    "\n",
    "*Casi toda la informacion que se manda y recibe de la web es un diccionario, es importante saber validarla*"
   ]
  },
  {
   "cell_type": "code",
   "execution_count": 15,
   "id": "41a35133-b9a1-457d-8476-c63a82e381bf",
   "metadata": {},
   "outputs": [
    {
     "name": "stdout",
     "output_type": "stream",
     "text": [
      "Eres mayor de edad\n",
      "Eres mayor de edad\n",
      "Aun eres un niño\n"
     ]
    }
   ],
   "source": [
    "persona = {\n",
    "    \"nombre\": \"Raquel\",\n",
    "    \"edad\": 34,\n",
    "    \"puesto de trabajo\": \"desarrolladora\" \n",
    "}\n",
    "\n",
    "edad = persona[\"edad\"]\n",
    "if edad >= 18:\n",
    "    print(\"Eres mayor de edad\")\n",
    "elif 0 < edad < 18:\n",
    "    print(\"Aun eres un niño\")\n",
    "else:\n",
    "    print(\"No tiene sentido una edad negativa\")\n",
    "\n",
    "\n",
    "persona = {\n",
    "    \"raq\": {\n",
    "        \"nombre\": \"Raquel\",\n",
    "        \"edad\": 34,\n",
    "        \"puesto de trabajo\": \"desarrolladora\" \n",
    "    },\n",
    "    \"rau\": {\n",
    "        \"nombre\": \"Raul\",\n",
    "        \"edad\": 4,\n",
    "        \"puesto de trabajo\": \"desarrollador\" \n",
    "    }\n",
    "}\n",
    "\n",
    "for elemento in persona.values():\n",
    "    edad = elemento[\"edad\"]\n",
    "    if edad >= 18:\n",
    "        print(\"Eres mayor de edad\")\n",
    "    elif 0 < edad < 18:\n",
    "        print(\"Aun eres un niño\")\n",
    "    else:\n",
    "        print(\"No tiene sentido una edad negativa\")    "
   ]
  },
  {
   "cell_type": "markdown",
   "id": "39b79495-ec58-4033-b068-04da131823a8",
   "metadata": {},
   "source": [
    "## ¿Divisible por 3 o 5?\n",
    "\n",
    "Comprobar si un numero es divisible por 3 o 5"
   ]
  },
  {
   "cell_type": "code",
   "execution_count": 16,
   "id": "58820879-aea8-4387-9af3-d4edec77a296",
   "metadata": {},
   "outputs": [
    {
     "name": "stdout",
     "output_type": "stream",
     "text": [
      "El numero tiene otros divisores\n"
     ]
    }
   ],
   "source": [
    "numero = 16\n",
    "if numero % 5 == 0 or numero % 3 == 0:\n",
    "    print(\"El numero es divisible por 3 o por 5\")\n",
    "else:\n",
    "    print(\"El numero tiene otros divisores\")"
   ]
  },
  {
   "cell_type": "markdown",
   "id": "6626b974-5f54-4652-87a9-f9370b383a2c",
   "metadata": {},
   "source": [
    "## Ejercicios de los alumnos"
   ]
  },
  {
   "cell_type": "code",
   "execution_count": 17,
   "id": "68113c76-0034-45da-87f2-9af512113b06",
   "metadata": {},
   "outputs": [
    {
     "name": "stdout",
     "output_type": "stream",
     "text": [
      "Es par\n",
      "Es impar\n"
     ]
    }
   ],
   "source": [
    "# Comprobar si un numero es par o impar\n",
    "\n",
    "var = 2\n",
    "if var % 2 == 0:\n",
    "    resultado = \"Es par\"\n",
    "else:\n",
    "    resultado = \"Es impar\"\n",
    "\n",
    "print(resultado)\n",
    "\n",
    "#otra forma con el ternario\n",
    "var = 3\n",
    "resultado = \"es par\" if var % 2 == 0 else \"Es impar\"\n",
    "print(resultado)"
   ]
  },
  {
   "cell_type": "code",
   "execution_count": 18,
   "id": "056159d4-27a0-43fe-86c8-31c7b82375b1",
   "metadata": {},
   "outputs": [
    {
     "name": "stdout",
     "output_type": "stream",
     "text": [
      "4 x 1 = 4\n",
      "4 x 2 = 8\n",
      "4 x 3 = 12\n",
      "4 x 4 = 16\n",
      "4 x 5 = 20\n",
      "4 x 6 = 24\n",
      "4 x 7 = 28\n",
      "4 x 8 = 32\n",
      "4 x 9 = 36\n",
      "4 x 10 = 40\n"
     ]
    }
   ],
   "source": [
    "# Crear tablas de multiplicar automaticas\n",
    "\n",
    "numero_tabla = 4\n",
    "for multiplo in range(10):\n",
    "    print(f\"{numero_tabla} x {multiplo + 1} = {numero_tabla * (multiplo + 1)}\")\n",
    "\n",
    "#intentar ser explicativa en python    "
   ]
  },
  {
   "cell_type": "code",
   "execution_count": 19,
   "id": "c02bb76f",
   "metadata": {},
   "outputs": [
    {
     "name": "stdout",
     "output_type": "stream",
     "text": [
      "La suma de la lista es 30, el numero de elementos es 8 la media es 3.75\n",
      "3.75\n"
     ]
    }
   ],
   "source": [
    "# Sumar conjunto de numeros y calcular media\n",
    "lista = [3, 6, 8, 4, 1, 10, 2, -4]\n",
    "\n",
    "numLista = len(lista)\n",
    "resultado = 0\n",
    "for i in range(0, numLista):\n",
    "    resultado += lista[i]\n",
    "print(f\"La suma de la lista es {resultado}, el numero de elementos es {numLista} la media es {resultado/numLista}\")     \n",
    "\n",
    "#otra forma\n",
    "media = sum(lista) / numLista\n",
    "print(media)\n"
   ]
  },
  {
   "cell_type": "code",
   "execution_count": 20,
   "id": "1d254778-6c5a-4fae-88dc-a8e06e762527",
   "metadata": {},
   "outputs": [
    {
     "name": "stdout",
     "output_type": "stream",
     "text": [
      "{1: 'Juan', 2: 'Ana', 3: 'Raquel', 4: 'Antonio', 5: 'Belen'}\n",
      "{1: 'Juan', 2: 'Ana', 3: 'Raquel', 4: 'Antonio', 5: 'Belen'}\n"
     ]
    }
   ],
   "source": [
    "# Juntar dos secuencias en un diccionario\n",
    "\n",
    "claves = [1, 2, 3, 4, 5]\n",
    "valores = [\"Juan\", \"Ana\", \"Raquel\", \"Antonio\", \"Belen\"]\n",
    "resultado = dict(zip(claves, valores))\n",
    "print(resultado)\n",
    "\n",
    "#otra forma aunque es peor\n",
    "dicc = dict()\n",
    "\n",
    "for clave in claves:\n",
    "    dicc[clave] = valores[clave - 1]\n",
    "print(dicc)    "
   ]
  },
  {
   "cell_type": "code",
   "execution_count": 22,
   "id": "7334a6e9",
   "metadata": {},
   "outputs": [
    {
     "name": "stdout",
     "output_type": "stream",
     "text": [
      "Es primo\n"
     ]
    }
   ],
   "source": [
    "# Comprobar si un numero es primo o no\n",
    "numero = 7\n",
    "\n",
    "for raiz in range(2, numero):\n",
    "    es_primo = True\n",
    "    if numero % raiz == 0:\n",
    "        es_primo = False\n",
    "        break\n",
    "\n",
    "if es_primo:\n",
    "    print(\"Es primo\")\n",
    "else:            \n",
    "    print(\"No es primo\")\n",
    "\n",
    "\n",
    "# print(numero) \n",
    "# del numero #permite eliminar una variable\n",
    "# print(numero)"
   ]
  },
  {
   "cell_type": "code",
   "execution_count": 22,
   "id": "ca147b6c",
   "metadata": {},
   "outputs": [
    {
     "name": "stdout",
     "output_type": "stream",
     "text": [
      "0\n",
      "2\n"
     ]
    }
   ],
   "source": [
    "numero = 3\n",
    "\n",
    "for numero in range(10):\n",
    "    \n",
    "    if numero == 3:\n",
    "        break # finaliza el bucle de forma abrupta\n",
    "    if numero == 2:\n",
    "            ...\n",
    "            # ... y pass es lo mismo hace que no ocurra nada\n",
    "    if numero == 1:\n",
    "         continue  # continua\n",
    "    print(numero)\n",
    "          "
   ]
  }
 ],
 "metadata": {
  "kernelspec": {
   "display_name": "Python 3 (ipykernel)",
   "language": "python",
   "name": "python3"
  },
  "language_info": {
   "codemirror_mode": {
    "name": "ipython",
    "version": 3
   },
   "file_extension": ".py",
   "mimetype": "text/x-python",
   "name": "python",
   "nbconvert_exporter": "python",
   "pygments_lexer": "ipython3",
   "version": "3.12.4"
  }
 },
 "nbformat": 4,
 "nbformat_minor": 5
}
