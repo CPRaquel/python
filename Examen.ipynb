{
 "cells": [
  {
   "cell_type": "markdown",
   "id": "afeb38a2-6320-4271-9160-cb71e25230ae",
   "metadata": {},
   "source": [
    "## Ejercicio 1\n",
    "\n",
    "Haz un **bucle** para mostrar los cuadrados de los numeros entre 1 y 10"
   ]
  },
  {
   "cell_type": "code",
   "execution_count": 8,
   "id": "b2f2c152-87e1-463a-a059-0dec9bf35bd5",
   "metadata": {},
   "outputs": [
    {
     "name": "stdout",
     "output_type": "stream",
     "text": [
      "1\n",
      "2\n",
      "3\n",
      "1\n",
      "4\n",
      "9\n",
      "16\n",
      "25\n",
      "36\n",
      "49\n",
      "64\n",
      "81\n",
      "100\n"
     ]
    }
   ],
   "source": [
    "\n",
    "for numero in range(1,10):\n",
    "    resultado = numero*numero\n",
    "    if resultado <= 10:\n",
    "        print(numero)\n",
    "    else:\n",
    "        break\n",
    "    \n",
    "for i in range(1, 11):\n",
    "    print(i**2)  # El operador ** eleva a un numero, en este caos a 2   "
   ]
  },
  {
   "cell_type": "markdown",
   "id": "a3ae8289-4e46-4bd4-a808-0e1f0137de47",
   "metadata": {},
   "source": [
    "## Ejercicio 2\n",
    "\n",
    "Haz una **función** para separar una frase en una **lista de palabras**"
   ]
  },
  {
   "cell_type": "code",
   "execution_count": 7,
   "id": "d9a99ccc-7a79-41cb-b509-7afc4f82dae1",
   "metadata": {},
   "outputs": [
    {
     "name": "stdout",
     "output_type": "stream",
     "text": [
      "['Hola', 'me', 'llamo', 'Raquel']\n",
      "['Hola', 'esto', 'es', 'una', 'frase']\n"
     ]
    }
   ],
   "source": [
    "frase = \"Hola me llamo Raquel\"\n",
    "\n",
    "def separar_frase(frase):\n",
    "    print(frase.split(\" \"))\n",
    "\n",
    "separar_frase(frase) \n",
    "\n",
    "\n",
    "def separar(frase):\n",
    "    return frase.split()  #Por defecto split separa por espacio en blanco\n",
    "\n",
    "print(separar(\"Hola esto es una frase\"))   "
   ]
  },
  {
   "cell_type": "markdown",
   "id": "b36eec37-f559-4772-8295-441525ab2ac1",
   "metadata": {},
   "source": [
    "## Ejercicio 3\n",
    "\n",
    "Haz una **clase** que se construya con un número entero, y guarde una **lista** de los **siguientes 10 números** enteros a partir del número proporcionado. Además, hacer un **método** para **devolver** esa lista, y otro **método** para identificar **por posición** un número de esa lista"
   ]
  },
  {
   "cell_type": "code",
   "execution_count": null,
   "id": "5c09b9b6-d1cb-4804-94d9-167ac122dfd5",
   "metadata": {},
   "outputs": [],
   "source": [
    "class Numero:\n",
    "    def __init__(self, valor: int):\n",
    "        self.valor = valor\n",
    "        self.lista += [valor]\n",
    "\n",
    "    def devolverLista(lista: list):\n",
    "        print(lista)\n",
    "\n",
    "class SecuenciaNumerica:\n",
    "    def __init__(self, numero_inicial: int):\n",
    "        self.numero_inicial = numero_inicial  # Guarda numero inicial\n",
    "        # Ahora crea una lista con los 10 siguientes\n",
    "        self.lista_numeros = []\n",
    "        for numero in range(numero_inicial + 10):\n",
    "          self.lista_numeros.append(numero)\n",
    "    \n",
    "    def obtener_lista(self) -> list[int]:\n",
    "        return self.lista_numeros  # Return de la lista\n",
    "    \n",
    "    def obtener_numero_por_posicion(self, posicion: int) -> int | str:\n",
    "        if 0 <= posicion < len(self.lista_numeros):\n",
    "            return self.lista_numeros[posicion]  # Return de posicion de la lista\n",
    "        else:\n",
    "            return \"Posición fuera de rango\"\n",
    "\n",
    "secuencia = SecuenciaNumerica(5)\n",
    "print(secuencia.obtener_lista())\n",
    "print(secuencia.obtener_numero_por_posicion(3))\n",
    "print(secuencia.obtener_numero_por_posicion(10))  # Posición fuera de rango"
   ]
  }
 ],
 "metadata": {
  "kernelspec": {
   "display_name": "Python 3 (ipykernel)",
   "language": "python",
   "name": "python3"
  },
  "language_info": {
   "codemirror_mode": {
    "name": "ipython",
    "version": 3
   },
   "file_extension": ".py",
   "mimetype": "text/x-python",
   "name": "python",
   "nbconvert_exporter": "python",
   "pygments_lexer": "ipython3",
   "version": "3.12.4"
  }
 },
 "nbformat": 4,
 "nbformat_minor": 5
}
